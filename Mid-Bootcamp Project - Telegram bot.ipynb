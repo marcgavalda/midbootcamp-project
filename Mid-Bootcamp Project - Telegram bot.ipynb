{
 "cells": [
  {
   "cell_type": "code",
   "execution_count": 16,
   "id": "b2f457da",
   "metadata": {},
   "outputs": [],
   "source": [
    "'''Importing libraries'''\n",
    "import telebot\n",
    "import os\n",
    "from telebot import types\n",
    "import time\n",
    "from telegram import InlineKeyboardMarkup, InlineKeyboardButton"
   ]
  },
  {
   "cell_type": "code",
   "execution_count": 17,
   "id": "f46c475d",
   "metadata": {},
   "outputs": [],
   "source": [
    "'''Accessing secrets'''\n",
    "secrets_dict={}\n",
    "secrets = open('C:\\\\Users\\\\magavald\\\\Desktop\\\\Ironhack\\\\secrets.txt')\n",
    "for line in secrets:\n",
    "    (key,val) = line.replace('\\n','').split(';')\n",
    "    secrets_dict[key] = val"
   ]
  },
  {
   "cell_type": "code",
   "execution_count": 18,
   "id": "4bc11280",
   "metadata": {},
   "outputs": [
    {
     "data": {
      "text/plain": [
       "True"
      ]
     },
     "execution_count": 18,
     "metadata": {},
     "output_type": "execute_result"
    }
   ],
   "source": [
    "bot = telebot.TeleBot(secrets_dict['TELEGRAM_BOT_TOKEN'])\n",
    "bot.set_webhook()"
   ]
  },
  {
   "cell_type": "code",
   "execution_count": 19,
   "id": "5763c30d",
   "metadata": {},
   "outputs": [
    {
     "data": {
      "text/plain": [
       "<telebot.types.InlineKeyboardMarkup at 0x1cd0d531220>"
      ]
     },
     "execution_count": 19,
     "metadata": {},
     "output_type": "execute_result"
    }
   ],
   "source": [
    "'''Setting up buttons'''\n",
    "payment_button = types.InlineKeyboardButton('💰Pay 5€ for Premium (one-off)💰', callback_data='click')\n",
    "\n",
    "keyboard = types.InlineKeyboardMarkup()\n",
    "keyboard.add(payment_button)"
   ]
  },
  {
   "cell_type": "code",
   "execution_count": null,
   "id": "eaf15b5b",
   "metadata": {},
   "outputs": [],
   "source": [
    "'''Creating bot'''\n",
    "@bot.message_handler(commands=['start'])\n",
    "def greet(message):\n",
    "    bot.send_message(message.chat.id\n",
    "                     , text='Hello! I am RentingAdvisorNL and I will help you to find the place of your dreams in Amsterdam. First, in which of the following areas you would like to live?' \n",
    "                     '\\n\\n'\n",
    "                     '*Oud-Zuid*'\n",
    "                     '\\n*De Pijp*'\n",
    "                     '\\n*Centrum-West*'\n",
    "                     , parse_mode= 'Markdown')\n",
    "\n",
    "\n",
    "@bot.message_handler(commands=['Oud-Zuid'])\n",
    "def location_selection(message):\n",
    "    bot.send_message(message.chat.id\n",
    "                     , 'Perfect, I´ll send you all the listings of Oud-Zuid')\n",
    "    \n",
    "    time.sleep(10)\n",
    "    bot.send_message(message.chat.id\n",
    "                     , '⚠️🏠 *ALERT* 🏠⚠️'\n",
    "                     '\\nThe below accomodation was listed 3 hours ago. Click on the link for all the information: https://www.pararius.nl/appartement-te-huur/amsterdam/2bde1682/pieter-cornelisz-hooftstraat',parse_mode='Markdown')\n",
    "    \n",
    "    time.sleep(30)\n",
    "    bot.send_message(message.chat.id, text='Upgrade to *PREMIUM* to:'\n",
    "                                            '\\n💸 Filter by budget'\n",
    "                                            '\\n🕒 Get listing notifications in real-time'\n",
    "                                            '\\n🚪 Automatically request viewings as soon accomodation gets listed'\n",
    "                                            '\\n📈 Get market insights to spot the best deals'\n",
    "                                            ,parse_mode='Markdown'\n",
    "                                            ,reply_markup=keyboard)\n",
    "    \n",
    "    bot.editMessageReplyMarkup(chat_id=self.chat_id, message_id=message_id, reply_markup=keyboard)\n",
    "\n",
    "bot.polling()"
   ]
  }
 ],
 "metadata": {
  "kernelspec": {
   "display_name": "Python 3 (ipykernel)",
   "language": "python",
   "name": "python3"
  },
  "language_info": {
   "codemirror_mode": {
    "name": "ipython",
    "version": 3
   },
   "file_extension": ".py",
   "mimetype": "text/x-python",
   "name": "python",
   "nbconvert_exporter": "python",
   "pygments_lexer": "ipython3",
   "version": "3.9.12"
  }
 },
 "nbformat": 4,
 "nbformat_minor": 5
}
