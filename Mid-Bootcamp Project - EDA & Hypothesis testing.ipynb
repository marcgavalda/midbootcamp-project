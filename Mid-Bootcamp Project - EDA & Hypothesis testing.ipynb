{
 "cells": [
  {
   "cell_type": "code",
   "execution_count": 1,
   "id": "09d2e3ea",
   "metadata": {},
   "outputs": [],
   "source": [
    "from bs4 import BeautifulSoup\n",
    "\n",
    "# the second package we will need we already know it\n",
    "import requests\n",
    "import pandas as pd\n",
    "import time\n",
    "import random\n",
    "import numpy as np\n",
    "import re\n",
    "import os\n",
    "import seaborn as sns\n",
    "import scipy.stats as st\n",
    "import statistics\n",
    "\n",
    "from selenium import webdriver\n",
    "from selenium.webdriver.common.keys import Keys\n",
    "from selenium.webdriver.chrome.service import Service\n",
    "from selenium.webdriver.chrome.options import Options\n",
    "from selenium.webdriver.common.by import By\n",
    "from webdriver_manager.chrome import ChromeDriverManager"
   ]
  },
  {
   "cell_type": "code",
   "execution_count": 2,
   "id": "c5a8a5fc",
   "metadata": {},
   "outputs": [
    {
     "name": "stderr",
     "output_type": "stream",
     "text": [
      "[WDM] - Downloading: 100%|██████████| 6.58M/6.58M [00:00<00:00, 11.5MB/s]\n"
     ]
    }
   ],
   "source": [
    "driver = webdriver.Chrome(service=Service(ChromeDriverManager().install()))"
   ]
  },
  {
   "cell_type": "code",
   "execution_count": null,
   "id": "a320803d",
   "metadata": {},
   "outputs": [],
   "source": [
    "data_df = pd.read_csv('C:/Users/magavald/Desktop/data_project.csv', header=None)\n",
    "data_df"
   ]
  },
  {
   "cell_type": "code",
   "execution_count": null,
   "id": "7a2782e4",
   "metadata": {},
   "outputs": [],
   "source": [
    "target_attrs= {'Rental price':'listing-features__description listing-features__description--for_rent_price'\n",
    "               ,'Deposit':'listing-features__description listing-features__description--deposit'\n",
    "               ,'Number rooms':'listing-features__description listing-features__description--number_of_rooms'\n",
    "               ,'Number floors':'listing-features__description listing-features__description--number_of_floors'\n",
    "               ,'Number bathrooms':'listing-features__description listing-features__description--number_of_bathrooms'\n",
    "               ,'Surface area':'listing-features__description listing-features__description--surface_area'\n",
    "               ,'Interior':'listing-features__description listing-features__description--interior'\n",
    "               ,'House Type':'listing-features__description listing-features__description--dwelling_type'\n",
    "               ,'Construction Year':'listing-features__description listing-features__description--construction_period'\n",
    "               ,'Balcony':'listing-features__description listing-features__description--balcony'}"
   ]
  },
  {
   "cell_type": "code",
   "execution_count": null,
   "id": "7c6a00fb",
   "metadata": {},
   "outputs": [],
   "source": [
    "attr_dict={}\n",
    "for url in data_df[0]:\n",
    "    attr_dict[url] = {}\n",
    "    driver.get(url)\n",
    "    time.sleep(random.uniform(0,5))\n",
    "    apartment_page = driver.page_source\n",
    "    \n",
    "    soup = BeautifulSoup(apartment_page, 'lxml')\n",
    "    \n",
    "    for target_attr in target_attrs.keys():\n",
    "        if soup.find('dd', attrs={'class':target_attrs[target_attr]}) is None:\n",
    "            attr_dict[url][target_attr] = ''\n",
    "        else:\n",
    "            attr_dict[url][target_attr] = soup.find('dd', attrs={'class':target_attrs[target_attr]}).text.strip()"
   ]
  },
  {
   "cell_type": "code",
   "execution_count": null,
   "id": "8f2a2ccf",
   "metadata": {},
   "outputs": [],
   "source": [
    "attr_df = pd.DataFrame(data=attr_dict)\n",
    "attr_df = (attr_df.T).reset_index()\n",
    "attr_df"
   ]
  },
  {
   "cell_type": "code",
   "execution_count": null,
   "id": "c2fe0a2a",
   "metadata": {},
   "outputs": [],
   "source": [
    "#Data cleaning per column\n",
    "attr_df['Rental price'] = attr_df['Rental price'].str.extract(r\"(\\d+\\,\\d+)\").replace(',','', regex=True).astype(float)\n",
    "attr_df['Deposit'] = attr_df['Deposit'].str.extract(r\"(\\d+\\,\\d+)\").replace(',','', regex=True).astype(float)\n",
    "attr_df['Deposit Rent ratio'] = attr_df['Deposit']/attr_df['Rental price']\n",
    "attr_df['Surface area'] = attr_df['Surface area'].str.extract(r\"(\\d+\\d+)\").astype(float)\n",
    "attr_df['Balcony'] = attr_df['Balcony'].replace({'Present':1,'Not present':0})\n",
    "attr_df['Number rooms'] = attr_df['Number rooms'].str.extract(r\"(\\d+)\").astype(float)\n",
    "attr_df['Number floors'] = attr_df['Number floors'].str.extract(r\"(\\d+)\").astype(float)\n",
    "attr_df['Number bathrooms'] = attr_df['Number bathrooms'].str.extract(r\"(\\d+)\").astype(float)\n",
    "attr_df['Construction Year'] = attr_df['Construction Year'].str.extract(r\"(\\d+)\").astype(float)"
   ]
  },
  {
   "cell_type": "code",
   "execution_count": 4,
   "id": "cb78e736",
   "metadata": {},
   "outputs": [
    {
     "data": {
      "text/html": [
       "<div>\n",
       "<style scoped>\n",
       "    .dataframe tbody tr th:only-of-type {\n",
       "        vertical-align: middle;\n",
       "    }\n",
       "\n",
       "    .dataframe tbody tr th {\n",
       "        vertical-align: top;\n",
       "    }\n",
       "\n",
       "    .dataframe thead th {\n",
       "        text-align: right;\n",
       "    }\n",
       "</style>\n",
       "<table border=\"1\" class=\"dataframe\">\n",
       "  <thead>\n",
       "    <tr style=\"text-align: right;\">\n",
       "      <th></th>\n",
       "      <th>Unnamed: 0</th>\n",
       "      <th>index</th>\n",
       "      <th>Rental price</th>\n",
       "      <th>Deposit</th>\n",
       "      <th>Number rooms</th>\n",
       "      <th>Number floors</th>\n",
       "      <th>Number bathrooms</th>\n",
       "      <th>Surface area</th>\n",
       "      <th>Interior</th>\n",
       "      <th>House Type</th>\n",
       "      <th>Construction Year</th>\n",
       "      <th>Balcony</th>\n",
       "      <th>Deposit Rent ratio</th>\n",
       "      <th>1_x</th>\n",
       "      <th>1_y</th>\n",
       "    </tr>\n",
       "  </thead>\n",
       "  <tbody>\n",
       "    <tr>\n",
       "      <th>0</th>\n",
       "      <td>0</td>\n",
       "      <td>https://www.pararius.com/apartment-for-rent/am...</td>\n",
       "      <td>2750.0</td>\n",
       "      <td>NaN</td>\n",
       "      <td>4.0</td>\n",
       "      <td>3.0</td>\n",
       "      <td>2.0</td>\n",
       "      <td>92.0</td>\n",
       "      <td>NaN</td>\n",
       "      <td>Apartment</td>\n",
       "      <td>1926.0</td>\n",
       "      <td>1</td>\n",
       "      <td>NaN</td>\n",
       "      <td>Zuid</td>\n",
       "      <td>Zuid</td>\n",
       "    </tr>\n",
       "    <tr>\n",
       "      <th>1</th>\n",
       "      <td>1</td>\n",
       "      <td>https://www.pararius.com/apartment-for-rent/am...</td>\n",
       "      <td>2100.0</td>\n",
       "      <td>NaN</td>\n",
       "      <td>2.0</td>\n",
       "      <td>1.0</td>\n",
       "      <td>1.0</td>\n",
       "      <td>75.0</td>\n",
       "      <td>Upholstered or furnished</td>\n",
       "      <td>Apartment</td>\n",
       "      <td>1910.0</td>\n",
       "      <td>1</td>\n",
       "      <td>NaN</td>\n",
       "      <td>Zuid</td>\n",
       "      <td>Zuid</td>\n",
       "    </tr>\n",
       "    <tr>\n",
       "      <th>2</th>\n",
       "      <td>2</td>\n",
       "      <td>https://www.pararius.com/apartment-for-rent/am...</td>\n",
       "      <td>1800.0</td>\n",
       "      <td>3600.0</td>\n",
       "      <td>3.0</td>\n",
       "      <td>1.0</td>\n",
       "      <td>1.0</td>\n",
       "      <td>55.0</td>\n",
       "      <td>Upholstered</td>\n",
       "      <td>Apartment</td>\n",
       "      <td>1925.0</td>\n",
       "      <td>1</td>\n",
       "      <td>2.0</td>\n",
       "      <td>Zuid</td>\n",
       "      <td>Zuid</td>\n",
       "    </tr>\n",
       "    <tr>\n",
       "      <th>3</th>\n",
       "      <td>3</td>\n",
       "      <td>https://www.pararius.com/apartment-for-rent/am...</td>\n",
       "      <td>2400.0</td>\n",
       "      <td>4800.0</td>\n",
       "      <td>4.0</td>\n",
       "      <td>1.0</td>\n",
       "      <td>1.0</td>\n",
       "      <td>75.0</td>\n",
       "      <td>Furnished</td>\n",
       "      <td>Apartment</td>\n",
       "      <td>1921.0</td>\n",
       "      <td>0</td>\n",
       "      <td>2.0</td>\n",
       "      <td>Zuid</td>\n",
       "      <td>Zuid</td>\n",
       "    </tr>\n",
       "    <tr>\n",
       "      <th>4</th>\n",
       "      <td>4</td>\n",
       "      <td>https://www.pararius.com/apartment-for-rent/am...</td>\n",
       "      <td>4200.0</td>\n",
       "      <td>NaN</td>\n",
       "      <td>4.0</td>\n",
       "      <td>2.0</td>\n",
       "      <td>1.0</td>\n",
       "      <td>130.0</td>\n",
       "      <td>NaN</td>\n",
       "      <td>Apartment</td>\n",
       "      <td>1899.0</td>\n",
       "      <td>1</td>\n",
       "      <td>NaN</td>\n",
       "      <td>Zuid</td>\n",
       "      <td>Zuid</td>\n",
       "    </tr>\n",
       "  </tbody>\n",
       "</table>\n",
       "</div>"
      ],
      "text/plain": [
       "   Unnamed: 0                                              index  \\\n",
       "0           0  https://www.pararius.com/apartment-for-rent/am...   \n",
       "1           1  https://www.pararius.com/apartment-for-rent/am...   \n",
       "2           2  https://www.pararius.com/apartment-for-rent/am...   \n",
       "3           3  https://www.pararius.com/apartment-for-rent/am...   \n",
       "4           4  https://www.pararius.com/apartment-for-rent/am...   \n",
       "\n",
       "   Rental price  Deposit  Number rooms  Number floors  Number bathrooms  \\\n",
       "0        2750.0      NaN           4.0            3.0               2.0   \n",
       "1        2100.0      NaN           2.0            1.0               1.0   \n",
       "2        1800.0   3600.0           3.0            1.0               1.0   \n",
       "3        2400.0   4800.0           4.0            1.0               1.0   \n",
       "4        4200.0      NaN           4.0            2.0               1.0   \n",
       "\n",
       "   Surface area                  Interior House Type  Construction Year  \\\n",
       "0          92.0                       NaN  Apartment             1926.0   \n",
       "1          75.0  Upholstered or furnished  Apartment             1910.0   \n",
       "2          55.0               Upholstered  Apartment             1925.0   \n",
       "3          75.0                 Furnished  Apartment             1921.0   \n",
       "4         130.0                       NaN  Apartment             1899.0   \n",
       "\n",
       "  Balcony  Deposit Rent ratio   1_x   1_y  \n",
       "0       1                 NaN  Zuid  Zuid  \n",
       "1       1                 NaN  Zuid  Zuid  \n",
       "2       1                 2.0  Zuid  Zuid  \n",
       "3       0                 2.0  Zuid  Zuid  \n",
       "4       1                 NaN  Zuid  Zuid  "
      ]
     },
     "execution_count": 4,
     "metadata": {},
     "output_type": "execute_result"
    }
   ],
   "source": [
    "#reading file to acess data at the time starting the project\n",
    "attr_df = pd.read_csv('final_data_set.csv')\n",
    "attr_df.head()"
   ]
  },
  {
   "cell_type": "code",
   "execution_count": 5,
   "id": "9bd25065",
   "metadata": {},
   "outputs": [],
   "source": [
    "#data cleaning on file read\n",
    "attr_df['House Type'] = attr_df['House Type'].replace(to_replace = 'Appartement', value= 'Apartment')"
   ]
  },
  {
   "cell_type": "code",
   "execution_count": 8,
   "id": "11301b9e",
   "metadata": {},
   "outputs": [
    {
     "data": {
      "text/plain": [
       "(2082.544959493127, 2611.131511095108)"
      ]
     },
     "execution_count": 8,
     "metadata": {},
     "output_type": "execute_result"
    }
   ],
   "source": [
    "#Confidence interval of Rental price\n",
    "st.t.interval(0.95,len(attr_df['Rental price'].dropna())-1,loc=attr_df['Rental price'].dropna().mean(),scale=(np.std(attr_df['Rental price'].dropna(), ddof=1))/(np.sqrt(len(attr_df['Rental price'].dropna()))))"
   ]
  },
  {
   "cell_type": "code",
   "execution_count": 9,
   "id": "854a6c6c",
   "metadata": {},
   "outputs": [
    {
     "data": {
      "text/plain": [
       "(81.96444250640613, 103.32127177930815)"
      ]
     },
     "execution_count": 9,
     "metadata": {},
     "output_type": "execute_result"
    }
   ],
   "source": [
    "#Confidence interval of Surface area\n",
    "st.t.interval(0.95,len(attr_df['Surface area'])-1,loc=attr_df['Surface area'].mean(),scale=(np.std(attr_df['Surface area'], ddof=1))/(np.sqrt(len(attr_df['Surface area']))))"
   ]
  },
  {
   "cell_type": "code",
   "execution_count": 10,
   "id": "9c49625b",
   "metadata": {},
   "outputs": [],
   "source": [
    "price_m2 = attr_df['Rental price']/attr_df['Surface area']"
   ]
  },
  {
   "cell_type": "code",
   "execution_count": 11,
   "id": "ee191086",
   "metadata": {},
   "outputs": [
    {
     "data": {
      "text/plain": [
       "(25.00949396433752, 28.678834466454763)"
      ]
     },
     "execution_count": 11,
     "metadata": {},
     "output_type": "execute_result"
    }
   ],
   "source": [
    "st.t.interval(0.95,len(price_m2.dropna())-1,loc=price_m2.dropna().mean(),scale=(np.std(price_m2.dropna(), ddof=1))/(np.sqrt(len(price_m2.dropna()))))"
   ]
  },
  {
   "cell_type": "code",
   "execution_count": 13,
   "id": "bbcc396e",
   "metadata": {},
   "outputs": [
    {
     "data": {
      "text/plain": [
       "Ttest_1sampResult(statistic=-1.9806452812789401, pvalue=0.0568649629323235)"
      ]
     },
     "execution_count": 13,
     "metadata": {},
     "output_type": "execute_result"
    }
   ],
   "source": [
    "#Hypothesis testing\n",
    "#H0: Average deposit is = 2 times rent\n",
    "#H1: Average deposit is not = to 2 times rent\n",
    "st.ttest_1samp(attr_df['Deposit Rent ratio'].dropna(),2)"
   ]
  },
  {
   "cell_type": "code",
   "execution_count": 14,
   "id": "d1814a77",
   "metadata": {},
   "outputs": [],
   "source": [
    "#Hypothesis testing\n",
    "#H0: Houses with >100m2 have the same price  or higher per m2 as rest of houses\n",
    "#H1: Houses with >100m2 have a lower price per m2\n",
    "\n",
    "attr_df_large = attr_df[attr_df['Surface area']>100]\n",
    "attr_df_small = attr_df[attr_df['Surface area']<=100]"
   ]
  },
  {
   "cell_type": "code",
   "execution_count": 15,
   "id": "f28622ee",
   "metadata": {},
   "outputs": [],
   "source": [
    "series_large = attr_df_large['Rental price']/attr_df_large['Surface area']\n",
    "series_small = attr_df_small['Rental price']/attr_df_small['Surface area']\n",
    "series_small = series_small.dropna()"
   ]
  },
  {
   "cell_type": "code",
   "execution_count": 16,
   "id": "f6b20c04",
   "metadata": {},
   "outputs": [
    {
     "data": {
      "text/plain": [
       "Ttest_indResult(statistic=2.19374310271379, pvalue=0.02031621396545005)"
      ]
     },
     "execution_count": 16,
     "metadata": {},
     "output_type": "execute_result"
    }
   ],
   "source": [
    "st.ttest_ind(series_small,series_large, equal_var=False, alternative='greater') "
   ]
  },
  {
   "cell_type": "code",
   "execution_count": 17,
   "id": "a0b92dcb",
   "metadata": {},
   "outputs": [],
   "source": [
    "#Hypothesis testing\n",
    "#H0: Newer houses (built after 1965) have the same price or lower per m2 than older ones\n",
    "#H1: Newer houses have greater price per m2\n",
    "\n",
    "attr_df_newer = attr_df[attr_df['Construction Year']>1964]\n",
    "attr_df_older = attr_df[attr_df['Construction Year']<=1964]"
   ]
  },
  {
   "cell_type": "code",
   "execution_count": 19,
   "id": "73f5cc35",
   "metadata": {},
   "outputs": [],
   "source": [
    "series_newer = attr_df_newer['Rental price']/attr_df_newer['Surface area']\n",
    "series_newer = series_newer.dropna()\n",
    "series_older = attr_df_older['Rental price']/attr_df_older['Surface area']"
   ]
  },
  {
   "cell_type": "code",
   "execution_count": 20,
   "id": "6fe80ca1",
   "metadata": {},
   "outputs": [
    {
     "data": {
      "text/plain": [
       "Ttest_indResult(statistic=-3.078057984296832, pvalue=0.9983287612275303)"
      ]
     },
     "execution_count": 20,
     "metadata": {},
     "output_type": "execute_result"
    }
   ],
   "source": [
    "st.ttest_ind(series_newer,series_older, equal_var=False, alternative='greater')"
   ]
  },
  {
   "cell_type": "code",
   "execution_count": 21,
   "id": "ff660a5c",
   "metadata": {},
   "outputs": [],
   "source": [
    "#Hypothesis testing\n",
    "#H0: Houses with balcony have a lower or equal price as houses without balcony\n",
    "#H1: Houses with balcony have a higher price\n",
    "\n",
    "attr_df_balcony = attr_df[attr_df['Balcony']=='1']\n",
    "attr_df_no_balcony = attr_df[attr_df['Balcony']=='0']"
   ]
  },
  {
   "cell_type": "code",
   "execution_count": 22,
   "id": "d6916ac8",
   "metadata": {},
   "outputs": [],
   "source": [
    "series_balcony = attr_df_balcony['Rental price']/attr_df_balcony['Surface area']\n",
    "series_no_balcony = attr_df_no_balcony['Rental price']/attr_df_no_balcony['Surface area']\n",
    "series_no_balcony = series_no_balcony.dropna()"
   ]
  },
  {
   "cell_type": "code",
   "execution_count": 23,
   "id": "1f718165",
   "metadata": {},
   "outputs": [
    {
     "data": {
      "text/plain": [
       "Ttest_indResult(statistic=0.6621407766310594, pvalue=0.25539768211268077)"
      ]
     },
     "execution_count": 23,
     "metadata": {},
     "output_type": "execute_result"
    }
   ],
   "source": [
    "st.ttest_ind(series_balcony,series_no_balcony, equal_var=False, alternative='greater')"
   ]
  },
  {
   "cell_type": "code",
   "execution_count": 24,
   "id": "64ab41f4",
   "metadata": {},
   "outputs": [
    {
     "data": {
      "text/plain": [
       "Apartment    58\n",
       "House        10\n",
       "Studio        2\n",
       "Name: House Type, dtype: int64"
      ]
     },
     "execution_count": 24,
     "metadata": {},
     "output_type": "execute_result"
    }
   ],
   "source": [
    "#Confidence interval of % of Apartments\n",
    "attr_df['House Type'].value_counts()"
   ]
  },
  {
   "cell_type": "code",
   "execution_count": 25,
   "id": "2d2fd855",
   "metadata": {},
   "outputs": [
    {
     "data": {
      "text/plain": [
       "0.8285714285714286"
      ]
     },
     "execution_count": 25,
     "metadata": {},
     "output_type": "execute_result"
    }
   ],
   "source": [
    "a=58/70\n",
    "a"
   ]
  },
  {
   "cell_type": "code",
   "execution_count": 26,
   "id": "1307945c",
   "metadata": {},
   "outputs": [],
   "source": [
    "b = [1]*58\n",
    "c = [0]*12\n",
    "d = b + c"
   ]
  },
  {
   "cell_type": "code",
   "execution_count": 27,
   "id": "24b9566b",
   "metadata": {},
   "outputs": [
    {
     "data": {
      "text/plain": [
       "(0.7380579925797578, 0.9190848645630995)"
      ]
     },
     "execution_count": 27,
     "metadata": {},
     "output_type": "execute_result"
    }
   ],
   "source": [
    "st.t.interval(0.95,len(d)-1,loc=a,scale=(np.std(d, ddof=1))/(np.sqrt(len(d))))"
   ]
  },
  {
   "cell_type": "code",
   "execution_count": 28,
   "id": "ae2c25ad",
   "metadata": {},
   "outputs": [
    {
     "data": {
      "text/plain": [
       "array(['Zuid', 'Centrum', 'Oost', 'Noord', 'Nieuw-West', 'West',\n",
       "       'Zuidoost'], dtype=object)"
      ]
     },
     "execution_count": 28,
     "metadata": {},
     "output_type": "execute_result"
    }
   ],
   "source": [
    "#ANOVA test to compare differences across neighborhood\n",
    "attr_df['1_x'].unique()"
   ]
  },
  {
   "cell_type": "code",
   "execution_count": 29,
   "id": "1631cf7a",
   "metadata": {},
   "outputs": [
    {
     "data": {
      "text/html": [
       "<div>\n",
       "<style scoped>\n",
       "    .dataframe tbody tr th:only-of-type {\n",
       "        vertical-align: middle;\n",
       "    }\n",
       "\n",
       "    .dataframe tbody tr th {\n",
       "        vertical-align: top;\n",
       "    }\n",
       "\n",
       "    .dataframe thead th {\n",
       "        text-align: right;\n",
       "    }\n",
       "</style>\n",
       "<table border=\"1\" class=\"dataframe\">\n",
       "  <thead>\n",
       "    <tr style=\"text-align: right;\">\n",
       "      <th></th>\n",
       "      <th>Unnamed: 0</th>\n",
       "      <th>index</th>\n",
       "      <th>Rental price</th>\n",
       "      <th>Deposit</th>\n",
       "      <th>Number rooms</th>\n",
       "      <th>Number floors</th>\n",
       "      <th>Number bathrooms</th>\n",
       "      <th>Surface area</th>\n",
       "      <th>Interior</th>\n",
       "      <th>House Type</th>\n",
       "      <th>Construction Year</th>\n",
       "      <th>Balcony</th>\n",
       "      <th>Deposit Rent ratio</th>\n",
       "      <th>1_x</th>\n",
       "      <th>1_y</th>\n",
       "      <th>Rent per m2</th>\n",
       "    </tr>\n",
       "  </thead>\n",
       "  <tbody>\n",
       "    <tr>\n",
       "      <th>0</th>\n",
       "      <td>0</td>\n",
       "      <td>https://www.pararius.com/apartment-for-rent/am...</td>\n",
       "      <td>2750.0</td>\n",
       "      <td>NaN</td>\n",
       "      <td>4.0</td>\n",
       "      <td>3.0</td>\n",
       "      <td>2.0</td>\n",
       "      <td>92.0</td>\n",
       "      <td>NaN</td>\n",
       "      <td>Apartment</td>\n",
       "      <td>1926.0</td>\n",
       "      <td>1</td>\n",
       "      <td>NaN</td>\n",
       "      <td>Zuid</td>\n",
       "      <td>Zuid</td>\n",
       "      <td>29.891304</td>\n",
       "    </tr>\n",
       "    <tr>\n",
       "      <th>1</th>\n",
       "      <td>1</td>\n",
       "      <td>https://www.pararius.com/apartment-for-rent/am...</td>\n",
       "      <td>2100.0</td>\n",
       "      <td>NaN</td>\n",
       "      <td>2.0</td>\n",
       "      <td>1.0</td>\n",
       "      <td>1.0</td>\n",
       "      <td>75.0</td>\n",
       "      <td>Upholstered or furnished</td>\n",
       "      <td>Apartment</td>\n",
       "      <td>1910.0</td>\n",
       "      <td>1</td>\n",
       "      <td>NaN</td>\n",
       "      <td>Zuid</td>\n",
       "      <td>Zuid</td>\n",
       "      <td>28.000000</td>\n",
       "    </tr>\n",
       "    <tr>\n",
       "      <th>2</th>\n",
       "      <td>2</td>\n",
       "      <td>https://www.pararius.com/apartment-for-rent/am...</td>\n",
       "      <td>1800.0</td>\n",
       "      <td>3600.0</td>\n",
       "      <td>3.0</td>\n",
       "      <td>1.0</td>\n",
       "      <td>1.0</td>\n",
       "      <td>55.0</td>\n",
       "      <td>Upholstered</td>\n",
       "      <td>Apartment</td>\n",
       "      <td>1925.0</td>\n",
       "      <td>1</td>\n",
       "      <td>2.0</td>\n",
       "      <td>Zuid</td>\n",
       "      <td>Zuid</td>\n",
       "      <td>32.727273</td>\n",
       "    </tr>\n",
       "    <tr>\n",
       "      <th>3</th>\n",
       "      <td>3</td>\n",
       "      <td>https://www.pararius.com/apartment-for-rent/am...</td>\n",
       "      <td>2400.0</td>\n",
       "      <td>4800.0</td>\n",
       "      <td>4.0</td>\n",
       "      <td>1.0</td>\n",
       "      <td>1.0</td>\n",
       "      <td>75.0</td>\n",
       "      <td>Furnished</td>\n",
       "      <td>Apartment</td>\n",
       "      <td>1921.0</td>\n",
       "      <td>0</td>\n",
       "      <td>2.0</td>\n",
       "      <td>Zuid</td>\n",
       "      <td>Zuid</td>\n",
       "      <td>32.000000</td>\n",
       "    </tr>\n",
       "    <tr>\n",
       "      <th>4</th>\n",
       "      <td>4</td>\n",
       "      <td>https://www.pararius.com/apartment-for-rent/am...</td>\n",
       "      <td>4200.0</td>\n",
       "      <td>NaN</td>\n",
       "      <td>4.0</td>\n",
       "      <td>2.0</td>\n",
       "      <td>1.0</td>\n",
       "      <td>130.0</td>\n",
       "      <td>NaN</td>\n",
       "      <td>Apartment</td>\n",
       "      <td>1899.0</td>\n",
       "      <td>1</td>\n",
       "      <td>NaN</td>\n",
       "      <td>Zuid</td>\n",
       "      <td>Zuid</td>\n",
       "      <td>32.307692</td>\n",
       "    </tr>\n",
       "  </tbody>\n",
       "</table>\n",
       "</div>"
      ],
      "text/plain": [
       "   Unnamed: 0                                              index  \\\n",
       "0           0  https://www.pararius.com/apartment-for-rent/am...   \n",
       "1           1  https://www.pararius.com/apartment-for-rent/am...   \n",
       "2           2  https://www.pararius.com/apartment-for-rent/am...   \n",
       "3           3  https://www.pararius.com/apartment-for-rent/am...   \n",
       "4           4  https://www.pararius.com/apartment-for-rent/am...   \n",
       "\n",
       "   Rental price  Deposit  Number rooms  Number floors  Number bathrooms  \\\n",
       "0        2750.0      NaN           4.0            3.0               2.0   \n",
       "1        2100.0      NaN           2.0            1.0               1.0   \n",
       "2        1800.0   3600.0           3.0            1.0               1.0   \n",
       "3        2400.0   4800.0           4.0            1.0               1.0   \n",
       "4        4200.0      NaN           4.0            2.0               1.0   \n",
       "\n",
       "   Surface area                  Interior House Type  Construction Year  \\\n",
       "0          92.0                       NaN  Apartment             1926.0   \n",
       "1          75.0  Upholstered or furnished  Apartment             1910.0   \n",
       "2          55.0               Upholstered  Apartment             1925.0   \n",
       "3          75.0                 Furnished  Apartment             1921.0   \n",
       "4         130.0                       NaN  Apartment             1899.0   \n",
       "\n",
       "  Balcony  Deposit Rent ratio   1_x   1_y  Rent per m2  \n",
       "0       1                 NaN  Zuid  Zuid    29.891304  \n",
       "1       1                 NaN  Zuid  Zuid    28.000000  \n",
       "2       1                 2.0  Zuid  Zuid    32.727273  \n",
       "3       0                 2.0  Zuid  Zuid    32.000000  \n",
       "4       1                 NaN  Zuid  Zuid    32.307692  "
      ]
     },
     "execution_count": 29,
     "metadata": {},
     "output_type": "execute_result"
    }
   ],
   "source": [
    "attr_df['Rent per m2'] = attr_df['Rental price']/attr_df['Surface area']\n",
    "attr_df.head()"
   ]
  },
  {
   "cell_type": "code",
   "execution_count": 30,
   "id": "286cf5c5",
   "metadata": {},
   "outputs": [
    {
     "data": {
      "text/plain": [
       "F_onewayResult(statistic=1.164751215636611, pvalue=0.3369486488598882)"
      ]
     },
     "execution_count": 30,
     "metadata": {},
     "output_type": "execute_result"
    }
   ],
   "source": [
    "st.f_oneway(attr_df[attr_df['1_x']=='Zuid']['Rent per m2'].dropna()\n",
    "            ,attr_df[attr_df['1_x']=='Centrum']['Rent per m2'].dropna()\n",
    "            ,attr_df[attr_df['1_x']=='Oost']['Rent per m2'].dropna()\n",
    "            ,attr_df[attr_df['1_x']=='Noord']['Rent per m2'].dropna()\n",
    "            ,attr_df[attr_df['1_x']=='Nieuw-West']['Rent per m2'].dropna()\n",
    "            ,attr_df[attr_df['1_x']=='West']['Rent per m2'].dropna()\n",
    "            ,attr_df[attr_df['1_x']=='Zuidoost']['Rent per m2'].dropna())"
   ]
  },
  {
   "cell_type": "code",
   "execution_count": 31,
   "id": "487ae066",
   "metadata": {},
   "outputs": [],
   "source": [
    "# Hypothesis testing on survey\n",
    "#H0: The expat community in Amsterdam that feel it's important or very important to contact rental agencies or landlords promptly after a property is listed to secure a viewing is =< 90%\n",
    "#H1: The expat community in Amsterdam that feel it's important or very important to contact rental agencies or landlords promtptly after a property is listed to secure a viewing is > 90%\n",
    "sample1 = 30*[1] + 0*[0]"
   ]
  },
  {
   "cell_type": "code",
   "execution_count": 32,
   "id": "2023e5a8",
   "metadata": {},
   "outputs": [
    {
     "data": {
      "text/plain": [
       "Ttest_1sampResult(statistic=inf, pvalue=0.0)"
      ]
     },
     "execution_count": 32,
     "metadata": {},
     "output_type": "execute_result"
    }
   ],
   "source": [
    "st.ttest_1samp(np.array(sample1),0.9,alternative='greater')"
   ]
  },
  {
   "cell_type": "code",
   "execution_count": 33,
   "id": "9abd7869",
   "metadata": {},
   "outputs": [],
   "source": [
    "#H0: The expat community in Amstrdam that say it's common or very common to encounter rental agencies or landlords that decline viewings due to having reached their maximum capacity for prospective tenants is =< 90%\n",
    "#H0: The expat community in Amstrdam that say it's common or very common to encounter rental agencies or landlords that decline viewings due to having reached their maximum capacity for prospective tenants is > 90%"
   ]
  },
  {
   "cell_type": "code",
   "execution_count": 34,
   "id": "2cac6651",
   "metadata": {},
   "outputs": [],
   "source": [
    "sample2 = 29*[1] + 1*[0]"
   ]
  },
  {
   "cell_type": "code",
   "execution_count": 35,
   "id": "171b01cc",
   "metadata": {},
   "outputs": [
    {
     "data": {
      "text/plain": [
       "Ttest_1sampResult(statistic=1.9999999999999996, pvalue=0.027471818591483614)"
      ]
     },
     "execution_count": 35,
     "metadata": {},
     "output_type": "execute_result"
    }
   ],
   "source": [
    "st.ttest_1samp(np.array(sample2),0.9,alternative='greater')"
   ]
  }
 ],
 "metadata": {
  "kernelspec": {
   "display_name": "Python 3 (ipykernel)",
   "language": "python",
   "name": "python3"
  },
  "language_info": {
   "codemirror_mode": {
    "name": "ipython",
    "version": 3
   },
   "file_extension": ".py",
   "mimetype": "text/x-python",
   "name": "python",
   "nbconvert_exporter": "python",
   "pygments_lexer": "ipython3",
   "version": "3.9.12"
  }
 },
 "nbformat": 4,
 "nbformat_minor": 5
}
